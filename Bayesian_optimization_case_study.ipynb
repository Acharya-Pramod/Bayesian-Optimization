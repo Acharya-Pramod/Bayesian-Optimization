{
  "cells": [
    {
      "cell_type": "markdown",
      "metadata": {
        "id": "WNK7vbHo-KYU"
      },
      "source": [
        "## Bayesian methods of hyperparameter optimization"
      ]
    },
    {
      "cell_type": "markdown",
      "metadata": {
        "id": "BlFdvPwF-KYW"
      },
      "source": [
        "In addition to the random search and the grid search methods for selecting optimal hyperparameters, we can use Bayesian methods of probabilities to select the optimal hyperparameters for an algorithm.\n",
        "\n",
        "In this case study, we will be using the BayesianOptimization library to perform hyperparmater tuning. This library has very good documentation which you can find here: https://github.com/fmfn/BayesianOptimization\n",
        "\n",
        "You will need to install the Bayesian optimization module. Running a cell with an exclamation point in the beginning of the command will run it as a shell command — please do this to install this module from our notebook in the cell below."
      ]
    },
    {
      "cell_type": "code",
      "execution_count": 1,
      "metadata": {
        "colab": {
          "base_uri": "https://localhost:8080/"
        },
        "id": "Pssx080d-Ulf",
        "outputId": "34d0759e-4466-40d1-8d35-ab3a03007b9a"
      },
      "outputs": [
        {
          "output_type": "stream",
          "name": "stdout",
          "text": [
            "Collecting bayesian-optimization\n",
            "  Downloading bayesian_optimization-1.4.3-py3-none-any.whl (18 kB)\n",
            "Requirement already satisfied: numpy>=1.9.0 in /usr/local/lib/python3.10/dist-packages (from bayesian-optimization) (1.25.2)\n",
            "Requirement already satisfied: scipy>=1.0.0 in /usr/local/lib/python3.10/dist-packages (from bayesian-optimization) (1.11.4)\n",
            "Requirement already satisfied: scikit-learn>=0.18.0 in /usr/local/lib/python3.10/dist-packages (from bayesian-optimization) (1.2.2)\n",
            "Collecting colorama>=0.4.6 (from bayesian-optimization)\n",
            "  Downloading colorama-0.4.6-py2.py3-none-any.whl (25 kB)\n",
            "Requirement already satisfied: joblib>=1.1.1 in /usr/local/lib/python3.10/dist-packages (from scikit-learn>=0.18.0->bayesian-optimization) (1.3.2)\n",
            "Requirement already satisfied: threadpoolctl>=2.0.0 in /usr/local/lib/python3.10/dist-packages (from scikit-learn>=0.18.0->bayesian-optimization) (3.2.0)\n",
            "Installing collected packages: colorama, bayesian-optimization\n",
            "Successfully installed bayesian-optimization-1.4.3 colorama-0.4.6\n"
          ]
        }
      ],
      "source": [
        "! pip install bayesian-optimization"
      ]
    },
    {
      "cell_type": "code",
      "source": [
        "!pip install lightgbm==3.3.0"
      ],
      "metadata": {
        "colab": {
          "base_uri": "https://localhost:8080/"
        },
        "id": "XTzjwZMdV0i0",
        "outputId": "20832cb6-1f72-49a2-a3f5-eebf4e19885e"
      },
      "execution_count": 2,
      "outputs": [
        {
          "output_type": "stream",
          "name": "stdout",
          "text": [
            "Collecting lightgbm==3.3.0\n",
            "  Downloading lightgbm-3.3.0-py3-none-manylinux1_x86_64.whl (2.0 MB)\n",
            "\u001b[2K     \u001b[90m━━━━━━━━━━━━━━━━━━━━━━━━━━━━━━━━━━━━━━━━\u001b[0m \u001b[32m2.0/2.0 MB\u001b[0m \u001b[31m9.5 MB/s\u001b[0m eta \u001b[36m0:00:00\u001b[0m\n",
            "\u001b[?25hRequirement already satisfied: wheel in /usr/local/lib/python3.10/dist-packages (from lightgbm==3.3.0) (0.42.0)\n",
            "Requirement already satisfied: numpy in /usr/local/lib/python3.10/dist-packages (from lightgbm==3.3.0) (1.25.2)\n",
            "Requirement already satisfied: scipy in /usr/local/lib/python3.10/dist-packages (from lightgbm==3.3.0) (1.11.4)\n",
            "Requirement already satisfied: scikit-learn!=0.22.0 in /usr/local/lib/python3.10/dist-packages (from lightgbm==3.3.0) (1.2.2)\n",
            "Requirement already satisfied: joblib>=1.1.1 in /usr/local/lib/python3.10/dist-packages (from scikit-learn!=0.22.0->lightgbm==3.3.0) (1.3.2)\n",
            "Requirement already satisfied: threadpoolctl>=2.0.0 in /usr/local/lib/python3.10/dist-packages (from scikit-learn!=0.22.0->lightgbm==3.3.0) (3.2.0)\n",
            "Installing collected packages: lightgbm\n",
            "  Attempting uninstall: lightgbm\n",
            "    Found existing installation: lightgbm 4.1.0\n",
            "    Uninstalling lightgbm-4.1.0:\n",
            "      Successfully uninstalled lightgbm-4.1.0\n",
            "Successfully installed lightgbm-3.3.0\n"
          ]
        }
      ]
    },
    {
      "cell_type": "code",
      "source": [
        "!pip install catboost"
      ],
      "metadata": {
        "colab": {
          "base_uri": "https://localhost:8080/"
        },
        "id": "DepAOubvWG5v",
        "outputId": "cc5f2875-f83f-42f4-d020-a4d4857573c5"
      },
      "execution_count": 3,
      "outputs": [
        {
          "output_type": "stream",
          "name": "stdout",
          "text": [
            "Collecting catboost\n",
            "  Downloading catboost-1.2.2-cp310-cp310-manylinux2014_x86_64.whl (98.7 MB)\n",
            "\u001b[2K     \u001b[90m━━━━━━━━━━━━━━━━━━━━━━━━━━━━━━━━━━━━━━━━\u001b[0m \u001b[32m98.7/98.7 MB\u001b[0m \u001b[31m6.7 MB/s\u001b[0m eta \u001b[36m0:00:00\u001b[0m\n",
            "\u001b[?25hRequirement already satisfied: graphviz in /usr/local/lib/python3.10/dist-packages (from catboost) (0.20.1)\n",
            "Requirement already satisfied: matplotlib in /usr/local/lib/python3.10/dist-packages (from catboost) (3.7.1)\n",
            "Requirement already satisfied: numpy>=1.16.0 in /usr/local/lib/python3.10/dist-packages (from catboost) (1.25.2)\n",
            "Requirement already satisfied: pandas>=0.24 in /usr/local/lib/python3.10/dist-packages (from catboost) (1.5.3)\n",
            "Requirement already satisfied: scipy in /usr/local/lib/python3.10/dist-packages (from catboost) (1.11.4)\n",
            "Requirement already satisfied: plotly in /usr/local/lib/python3.10/dist-packages (from catboost) (5.15.0)\n",
            "Requirement already satisfied: six in /usr/local/lib/python3.10/dist-packages (from catboost) (1.16.0)\n",
            "Requirement already satisfied: python-dateutil>=2.8.1 in /usr/local/lib/python3.10/dist-packages (from pandas>=0.24->catboost) (2.8.2)\n",
            "Requirement already satisfied: pytz>=2020.1 in /usr/local/lib/python3.10/dist-packages (from pandas>=0.24->catboost) (2023.4)\n",
            "Requirement already satisfied: contourpy>=1.0.1 in /usr/local/lib/python3.10/dist-packages (from matplotlib->catboost) (1.2.0)\n",
            "Requirement already satisfied: cycler>=0.10 in /usr/local/lib/python3.10/dist-packages (from matplotlib->catboost) (0.12.1)\n",
            "Requirement already satisfied: fonttools>=4.22.0 in /usr/local/lib/python3.10/dist-packages (from matplotlib->catboost) (4.48.1)\n",
            "Requirement already satisfied: kiwisolver>=1.0.1 in /usr/local/lib/python3.10/dist-packages (from matplotlib->catboost) (1.4.5)\n",
            "Requirement already satisfied: packaging>=20.0 in /usr/local/lib/python3.10/dist-packages (from matplotlib->catboost) (23.2)\n",
            "Requirement already satisfied: pillow>=6.2.0 in /usr/local/lib/python3.10/dist-packages (from matplotlib->catboost) (9.4.0)\n",
            "Requirement already satisfied: pyparsing>=2.3.1 in /usr/local/lib/python3.10/dist-packages (from matplotlib->catboost) (3.1.1)\n",
            "Requirement already satisfied: tenacity>=6.2.0 in /usr/local/lib/python3.10/dist-packages (from plotly->catboost) (8.2.3)\n",
            "Installing collected packages: catboost\n",
            "Successfully installed catboost-1.2.2\n"
          ]
        }
      ]
    },
    {
      "cell_type": "code",
      "execution_count": 4,
      "metadata": {
        "ExecuteTime": {
          "end_time": "2019-04-22T16:39:09.312682Z",
          "start_time": "2019-04-22T16:39:09.309208Z"
        },
        "_kg_hide-input": true,
        "id": "l9nfFTyj-KYY"
      },
      "outputs": [],
      "source": [
        "import warnings\n",
        "warnings.filterwarnings('ignore')\n",
        "from sklearn.preprocessing import LabelEncoder\n",
        "import numpy as np\n",
        "import pandas as pd\n",
        "import lightgbm\n",
        "from bayes_opt import BayesianOptimization\n",
        "from catboost import CatBoostClassifier, cv, Pool"
      ]
    },
    {
      "cell_type": "code",
      "execution_count": 5,
      "metadata": {
        "colab": {
          "base_uri": "https://localhost:8080/"
        },
        "id": "D16Dquw1AAK0",
        "outputId": "b7a221ee-960d-460c-8246-ebc97f0c02b2"
      },
      "outputs": [
        {
          "output_type": "execute_result",
          "data": {
            "text/plain": [
              "['.config', 'sample_data']"
            ]
          },
          "metadata": {},
          "execution_count": 5
        }
      ],
      "source": [
        "import os\n",
        "os.listdir()"
      ]
    },
    {
      "cell_type": "markdown",
      "metadata": {
        "ExecuteTime": {
          "end_time": "2019-04-22T14:48:15.929012Z",
          "start_time": "2019-04-22T14:48:15.926574Z"
        },
        "id": "AkBt3yds-KYu"
      },
      "source": [
        "## How does Bayesian optimization work?"
      ]
    },
    {
      "cell_type": "markdown",
      "metadata": {
        "id": "E1kyBCUs-KYv"
      },
      "source": [
        "Bayesian optimization works by constructing a posterior distribution of functions (Gaussian process) that best describes the function you want to optimize. As the number of observations grows, the posterior distribution improves, and the algorithm becomes more certain of which regions in parameter space are worth exploring and which are not, as seen in the picture below."
      ]
    },
    {
      "cell_type": "markdown",
      "metadata": {
        "id": "gAdHF72R-KYw"
      },
      "source": [
        "<img src=\"https://github.com/fmfn/BayesianOptimization/blob/master/examples/bo_example.png?raw=true\" />\n",
        "As you iterate over and over, the algorithm balances its needs of exploration and exploitation while taking into account what it knows about the target function. At each step, a Gaussian Process is fitted to the known samples (points previously explored), and the posterior distribution, combined with an exploration strategy (such as UCB — aka Upper Confidence Bound), or EI (Expected Improvement). This process is used to determine the next point that should be explored (see the gif below).\n",
        "<img src=\"https://github.com/fmfn/BayesianOptimization/raw/master/examples/bayesian_optimization.gif\" />"
      ]
    },
    {
      "cell_type": "markdown",
      "metadata": {
        "id": "RTP8KUlLoYzu"
      },
      "source": [
        "## Let's look at a simple example"
      ]
    },
    {
      "cell_type": "markdown",
      "metadata": {
        "id": "crpPqKdC-KYx"
      },
      "source": [
        "The first step is to create an optimizer. It uses two items:\n",
        "* function to optimize\n",
        "* bounds of parameters\n",
        "\n",
        "The function is the procedure that counts metrics of our model quality. The important thing is that our optimization will maximize the value on function. Smaller metrics are best. Hint: don't forget to use negative metric values."
      ]
    },
    {
      "cell_type": "markdown",
      "metadata": {
        "id": "e09ciF8gpTfr"
      },
      "source": [
        "Here we define our simple function we want to optimize."
      ]
    },
    {
      "cell_type": "code",
      "execution_count": 6,
      "metadata": {
        "id": "ofwvnfEwo5mG"
      },
      "outputs": [],
      "source": [
        "def simple_func(a, b):\n",
        "    return a + b"
      ]
    },
    {
      "cell_type": "markdown",
      "metadata": {
        "id": "XCGsdciCpeI3"
      },
      "source": [
        "Now, we define our bounds of the parameters to optimize, within the Bayesian optimizer."
      ]
    },
    {
      "cell_type": "code",
      "execution_count": 7,
      "metadata": {
        "id": "4jLYW2qnpOFr"
      },
      "outputs": [],
      "source": [
        "optimizer = BayesianOptimization(\n",
        "    simple_func,\n",
        "    {'a': (1, 3),\n",
        "    'b': (4, 7)})"
      ]
    },
    {
      "cell_type": "markdown",
      "metadata": {
        "id": "dg6LdYx8pq2T"
      },
      "source": [
        "These are the main parameters of this function:\n",
        "\n",
        "* **n_iter:** This is how many steps of Bayesian optimization you want to perform. The more steps, the more likely you are to find a good maximum.\n",
        "\n",
        "* **init_points:** This is how many steps of random exploration you want to perform. Random exploration can help by diversifying the exploration space."
      ]
    },
    {
      "cell_type": "markdown",
      "metadata": {
        "id": "i-GKMJ1uqMYv"
      },
      "source": [
        "Let's run an example where we use the optimizer to find the best values to maximize the target value for a and b given the inputs of 3 and 2."
      ]
    },
    {
      "cell_type": "code",
      "execution_count": 8,
      "metadata": {
        "colab": {
          "base_uri": "https://localhost:8080/"
        },
        "id": "Oy44Ro7wqNat",
        "outputId": "345c01bd-293f-4095-eea2-eb48cd25588c"
      },
      "outputs": [
        {
          "output_type": "stream",
          "name": "stdout",
          "text": [
            "|   iter    |  target   |     a     |     b     |\n",
            "-------------------------------------------------\n",
            "| \u001b[0m1        \u001b[0m | \u001b[0m9.228    \u001b[0m | \u001b[0m2.418    \u001b[0m | \u001b[0m6.81     \u001b[0m |\n",
            "| \u001b[0m2        \u001b[0m | \u001b[0m9.107    \u001b[0m | \u001b[0m2.327    \u001b[0m | \u001b[0m6.78     \u001b[0m |\n",
            "| \u001b[95m3        \u001b[0m | \u001b[95m9.615    \u001b[0m | \u001b[95m2.915    \u001b[0m | \u001b[95m6.699    \u001b[0m |\n",
            "| \u001b[95m4        \u001b[0m | \u001b[95m9.836    \u001b[0m | \u001b[95m2.892    \u001b[0m | \u001b[95m6.944    \u001b[0m |\n",
            "| \u001b[0m5        \u001b[0m | \u001b[0m5.078    \u001b[0m | \u001b[0m1.065    \u001b[0m | \u001b[0m4.013    \u001b[0m |\n",
            "=================================================\n"
          ]
        }
      ],
      "source": [
        "optimizer.maximize(3,2)"
      ]
    },
    {
      "cell_type": "markdown",
      "metadata": {
        "id": "tyKFMF2Hq2Sx"
      },
      "source": [
        "Great, now let's print the best parameters and the associated maximized target."
      ]
    },
    {
      "cell_type": "code",
      "execution_count": 9,
      "metadata": {
        "colab": {
          "base_uri": "https://localhost:8080/"
        },
        "id": "_H6DixyfscV_",
        "outputId": "8ce1ff6a-ca20-4346-dc0d-2cdb6d714cd4"
      },
      "outputs": [
        {
          "output_type": "stream",
          "name": "stdout",
          "text": [
            "{'a': 2.8918466523917914, 'b': 6.944499694406829}\n"
          ]
        },
        {
          "output_type": "execute_result",
          "data": {
            "text/plain": [
              "9.83634634679862"
            ]
          },
          "metadata": {},
          "execution_count": 9
        }
      ],
      "source": [
        "print(optimizer.max['params']);optimizer.max['target']"
      ]
    },
    {
      "cell_type": "markdown",
      "metadata": {
        "id": "tQ1T1V6Mspi4"
      },
      "source": [
        "## Test it on real data using the Light GBM"
      ]
    },
    {
      "cell_type": "markdown",
      "metadata": {
        "id": "y_oGwREZkm4h"
      },
      "source": [
        "The dataset we will be working with is the famous flight departures dataset. Our modeling goal will be to predict if a flight departure is going to be delayed by 15 minutes based on the other attributes in our dataset. As part of this modeling exercise, we will use Bayesian hyperparameter optimization to identify the best parameters for our model."
      ]
    },
    {
      "cell_type": "markdown",
      "metadata": {
        "id": "abYSagjQANDZ"
      },
      "source": [
        "**<font color='teal'> You can load the zipped csv files just as you would regular csv files using Pandas read_csv. In the next cell load the train and test data into two seperate dataframes. </font>**\n"
      ]
    },
    {
      "cell_type": "code",
      "source": [],
      "metadata": {
        "id": "dW2RMfYHWYc0"
      },
      "execution_count": 9,
      "outputs": []
    },
    {
      "cell_type": "code",
      "source": [
        "from google.colab import drive\n",
        "drive.mount('/content/drive')"
      ],
      "metadata": {
        "colab": {
          "base_uri": "https://localhost:8080/"
        },
        "id": "lM_TEHvkWZaS",
        "outputId": "5a7c71f5-daea-4a9a-bc66-31c5e3aef379"
      },
      "execution_count": 10,
      "outputs": [
        {
          "output_type": "stream",
          "name": "stdout",
          "text": [
            "Mounted at /content/drive\n"
          ]
        }
      ]
    },
    {
      "cell_type": "code",
      "execution_count": 11,
      "metadata": {
        "id": "EWKBApVuAeJe"
      },
      "outputs": [],
      "source": [
        "train_df = pd.read_csv('/content/drive/MyDrive/DS-SB/Bayesian Optimization Case Study/flight_delays_train.csv.zip')\n",
        "test_df = pd.read_csv('/content/drive/MyDrive/DS-SB/Bayesian Optimization Case Study/flight_delays_test.csv.zip')"
      ]
    },
    {
      "cell_type": "markdown",
      "metadata": {
        "id": "OapNcT9Eikis"
      },
      "source": [
        "**<font color='teal'> Print the top five rows of the train dataframe and review the columns in the data. </font>**"
      ]
    },
    {
      "cell_type": "code",
      "execution_count": 12,
      "metadata": {
        "colab": {
          "base_uri": "https://localhost:8080/",
          "height": 206
        },
        "id": "__4cXZ8iiYaC",
        "outputId": "e56188aa-5e2b-4e94-a7a3-500d05ef5681"
      },
      "outputs": [
        {
          "output_type": "execute_result",
          "data": {
            "text/plain": [
              "  Month DayofMonth DayOfWeek  DepTime UniqueCarrier Origin Dest  Distance  \\\n",
              "0   c-8       c-21       c-7     1934            AA    ATL  DFW       732   \n",
              "1   c-4       c-20       c-3     1548            US    PIT  MCO       834   \n",
              "2   c-9        c-2       c-5     1422            XE    RDU  CLE       416   \n",
              "3  c-11       c-25       c-6     1015            OO    DEN  MEM       872   \n",
              "4  c-10        c-7       c-6     1828            WN    MDW  OMA       423   \n",
              "\n",
              "  dep_delayed_15min  \n",
              "0                 N  \n",
              "1                 N  \n",
              "2                 N  \n",
              "3                 N  \n",
              "4                 Y  "
            ],
            "text/html": [
              "\n",
              "  <div id=\"df-22f3904a-0d96-43b0-b22e-eb4c2c8f482e\" class=\"colab-df-container\">\n",
              "    <div>\n",
              "<style scoped>\n",
              "    .dataframe tbody tr th:only-of-type {\n",
              "        vertical-align: middle;\n",
              "    }\n",
              "\n",
              "    .dataframe tbody tr th {\n",
              "        vertical-align: top;\n",
              "    }\n",
              "\n",
              "    .dataframe thead th {\n",
              "        text-align: right;\n",
              "    }\n",
              "</style>\n",
              "<table border=\"1\" class=\"dataframe\">\n",
              "  <thead>\n",
              "    <tr style=\"text-align: right;\">\n",
              "      <th></th>\n",
              "      <th>Month</th>\n",
              "      <th>DayofMonth</th>\n",
              "      <th>DayOfWeek</th>\n",
              "      <th>DepTime</th>\n",
              "      <th>UniqueCarrier</th>\n",
              "      <th>Origin</th>\n",
              "      <th>Dest</th>\n",
              "      <th>Distance</th>\n",
              "      <th>dep_delayed_15min</th>\n",
              "    </tr>\n",
              "  </thead>\n",
              "  <tbody>\n",
              "    <tr>\n",
              "      <th>0</th>\n",
              "      <td>c-8</td>\n",
              "      <td>c-21</td>\n",
              "      <td>c-7</td>\n",
              "      <td>1934</td>\n",
              "      <td>AA</td>\n",
              "      <td>ATL</td>\n",
              "      <td>DFW</td>\n",
              "      <td>732</td>\n",
              "      <td>N</td>\n",
              "    </tr>\n",
              "    <tr>\n",
              "      <th>1</th>\n",
              "      <td>c-4</td>\n",
              "      <td>c-20</td>\n",
              "      <td>c-3</td>\n",
              "      <td>1548</td>\n",
              "      <td>US</td>\n",
              "      <td>PIT</td>\n",
              "      <td>MCO</td>\n",
              "      <td>834</td>\n",
              "      <td>N</td>\n",
              "    </tr>\n",
              "    <tr>\n",
              "      <th>2</th>\n",
              "      <td>c-9</td>\n",
              "      <td>c-2</td>\n",
              "      <td>c-5</td>\n",
              "      <td>1422</td>\n",
              "      <td>XE</td>\n",
              "      <td>RDU</td>\n",
              "      <td>CLE</td>\n",
              "      <td>416</td>\n",
              "      <td>N</td>\n",
              "    </tr>\n",
              "    <tr>\n",
              "      <th>3</th>\n",
              "      <td>c-11</td>\n",
              "      <td>c-25</td>\n",
              "      <td>c-6</td>\n",
              "      <td>1015</td>\n",
              "      <td>OO</td>\n",
              "      <td>DEN</td>\n",
              "      <td>MEM</td>\n",
              "      <td>872</td>\n",
              "      <td>N</td>\n",
              "    </tr>\n",
              "    <tr>\n",
              "      <th>4</th>\n",
              "      <td>c-10</td>\n",
              "      <td>c-7</td>\n",
              "      <td>c-6</td>\n",
              "      <td>1828</td>\n",
              "      <td>WN</td>\n",
              "      <td>MDW</td>\n",
              "      <td>OMA</td>\n",
              "      <td>423</td>\n",
              "      <td>Y</td>\n",
              "    </tr>\n",
              "  </tbody>\n",
              "</table>\n",
              "</div>\n",
              "    <div class=\"colab-df-buttons\">\n",
              "\n",
              "  <div class=\"colab-df-container\">\n",
              "    <button class=\"colab-df-convert\" onclick=\"convertToInteractive('df-22f3904a-0d96-43b0-b22e-eb4c2c8f482e')\"\n",
              "            title=\"Convert this dataframe to an interactive table.\"\n",
              "            style=\"display:none;\">\n",
              "\n",
              "  <svg xmlns=\"http://www.w3.org/2000/svg\" height=\"24px\" viewBox=\"0 -960 960 960\">\n",
              "    <path d=\"M120-120v-720h720v720H120Zm60-500h600v-160H180v160Zm220 220h160v-160H400v160Zm0 220h160v-160H400v160ZM180-400h160v-160H180v160Zm440 0h160v-160H620v160ZM180-180h160v-160H180v160Zm440 0h160v-160H620v160Z\"/>\n",
              "  </svg>\n",
              "    </button>\n",
              "\n",
              "  <style>\n",
              "    .colab-df-container {\n",
              "      display:flex;\n",
              "      gap: 12px;\n",
              "    }\n",
              "\n",
              "    .colab-df-convert {\n",
              "      background-color: #E8F0FE;\n",
              "      border: none;\n",
              "      border-radius: 50%;\n",
              "      cursor: pointer;\n",
              "      display: none;\n",
              "      fill: #1967D2;\n",
              "      height: 32px;\n",
              "      padding: 0 0 0 0;\n",
              "      width: 32px;\n",
              "    }\n",
              "\n",
              "    .colab-df-convert:hover {\n",
              "      background-color: #E2EBFA;\n",
              "      box-shadow: 0px 1px 2px rgba(60, 64, 67, 0.3), 0px 1px 3px 1px rgba(60, 64, 67, 0.15);\n",
              "      fill: #174EA6;\n",
              "    }\n",
              "\n",
              "    .colab-df-buttons div {\n",
              "      margin-bottom: 4px;\n",
              "    }\n",
              "\n",
              "    [theme=dark] .colab-df-convert {\n",
              "      background-color: #3B4455;\n",
              "      fill: #D2E3FC;\n",
              "    }\n",
              "\n",
              "    [theme=dark] .colab-df-convert:hover {\n",
              "      background-color: #434B5C;\n",
              "      box-shadow: 0px 1px 3px 1px rgba(0, 0, 0, 0.15);\n",
              "      filter: drop-shadow(0px 1px 2px rgba(0, 0, 0, 0.3));\n",
              "      fill: #FFFFFF;\n",
              "    }\n",
              "  </style>\n",
              "\n",
              "    <script>\n",
              "      const buttonEl =\n",
              "        document.querySelector('#df-22f3904a-0d96-43b0-b22e-eb4c2c8f482e button.colab-df-convert');\n",
              "      buttonEl.style.display =\n",
              "        google.colab.kernel.accessAllowed ? 'block' : 'none';\n",
              "\n",
              "      async function convertToInteractive(key) {\n",
              "        const element = document.querySelector('#df-22f3904a-0d96-43b0-b22e-eb4c2c8f482e');\n",
              "        const dataTable =\n",
              "          await google.colab.kernel.invokeFunction('convertToInteractive',\n",
              "                                                    [key], {});\n",
              "        if (!dataTable) return;\n",
              "\n",
              "        const docLinkHtml = 'Like what you see? Visit the ' +\n",
              "          '<a target=\"_blank\" href=https://colab.research.google.com/notebooks/data_table.ipynb>data table notebook</a>'\n",
              "          + ' to learn more about interactive tables.';\n",
              "        element.innerHTML = '';\n",
              "        dataTable['output_type'] = 'display_data';\n",
              "        await google.colab.output.renderOutput(dataTable, element);\n",
              "        const docLink = document.createElement('div');\n",
              "        docLink.innerHTML = docLinkHtml;\n",
              "        element.appendChild(docLink);\n",
              "      }\n",
              "    </script>\n",
              "  </div>\n",
              "\n",
              "\n",
              "<div id=\"df-99d9fc60-c0a7-4f31-aaa2-ae9bf148c789\">\n",
              "  <button class=\"colab-df-quickchart\" onclick=\"quickchart('df-99d9fc60-c0a7-4f31-aaa2-ae9bf148c789')\"\n",
              "            title=\"Suggest charts\"\n",
              "            style=\"display:none;\">\n",
              "\n",
              "<svg xmlns=\"http://www.w3.org/2000/svg\" height=\"24px\"viewBox=\"0 0 24 24\"\n",
              "     width=\"24px\">\n",
              "    <g>\n",
              "        <path d=\"M19 3H5c-1.1 0-2 .9-2 2v14c0 1.1.9 2 2 2h14c1.1 0 2-.9 2-2V5c0-1.1-.9-2-2-2zM9 17H7v-7h2v7zm4 0h-2V7h2v10zm4 0h-2v-4h2v4z\"/>\n",
              "    </g>\n",
              "</svg>\n",
              "  </button>\n",
              "\n",
              "<style>\n",
              "  .colab-df-quickchart {\n",
              "      --bg-color: #E8F0FE;\n",
              "      --fill-color: #1967D2;\n",
              "      --hover-bg-color: #E2EBFA;\n",
              "      --hover-fill-color: #174EA6;\n",
              "      --disabled-fill-color: #AAA;\n",
              "      --disabled-bg-color: #DDD;\n",
              "  }\n",
              "\n",
              "  [theme=dark] .colab-df-quickchart {\n",
              "      --bg-color: #3B4455;\n",
              "      --fill-color: #D2E3FC;\n",
              "      --hover-bg-color: #434B5C;\n",
              "      --hover-fill-color: #FFFFFF;\n",
              "      --disabled-bg-color: #3B4455;\n",
              "      --disabled-fill-color: #666;\n",
              "  }\n",
              "\n",
              "  .colab-df-quickchart {\n",
              "    background-color: var(--bg-color);\n",
              "    border: none;\n",
              "    border-radius: 50%;\n",
              "    cursor: pointer;\n",
              "    display: none;\n",
              "    fill: var(--fill-color);\n",
              "    height: 32px;\n",
              "    padding: 0;\n",
              "    width: 32px;\n",
              "  }\n",
              "\n",
              "  .colab-df-quickchart:hover {\n",
              "    background-color: var(--hover-bg-color);\n",
              "    box-shadow: 0 1px 2px rgba(60, 64, 67, 0.3), 0 1px 3px 1px rgba(60, 64, 67, 0.15);\n",
              "    fill: var(--button-hover-fill-color);\n",
              "  }\n",
              "\n",
              "  .colab-df-quickchart-complete:disabled,\n",
              "  .colab-df-quickchart-complete:disabled:hover {\n",
              "    background-color: var(--disabled-bg-color);\n",
              "    fill: var(--disabled-fill-color);\n",
              "    box-shadow: none;\n",
              "  }\n",
              "\n",
              "  .colab-df-spinner {\n",
              "    border: 2px solid var(--fill-color);\n",
              "    border-color: transparent;\n",
              "    border-bottom-color: var(--fill-color);\n",
              "    animation:\n",
              "      spin 1s steps(1) infinite;\n",
              "  }\n",
              "\n",
              "  @keyframes spin {\n",
              "    0% {\n",
              "      border-color: transparent;\n",
              "      border-bottom-color: var(--fill-color);\n",
              "      border-left-color: var(--fill-color);\n",
              "    }\n",
              "    20% {\n",
              "      border-color: transparent;\n",
              "      border-left-color: var(--fill-color);\n",
              "      border-top-color: var(--fill-color);\n",
              "    }\n",
              "    30% {\n",
              "      border-color: transparent;\n",
              "      border-left-color: var(--fill-color);\n",
              "      border-top-color: var(--fill-color);\n",
              "      border-right-color: var(--fill-color);\n",
              "    }\n",
              "    40% {\n",
              "      border-color: transparent;\n",
              "      border-right-color: var(--fill-color);\n",
              "      border-top-color: var(--fill-color);\n",
              "    }\n",
              "    60% {\n",
              "      border-color: transparent;\n",
              "      border-right-color: var(--fill-color);\n",
              "    }\n",
              "    80% {\n",
              "      border-color: transparent;\n",
              "      border-right-color: var(--fill-color);\n",
              "      border-bottom-color: var(--fill-color);\n",
              "    }\n",
              "    90% {\n",
              "      border-color: transparent;\n",
              "      border-bottom-color: var(--fill-color);\n",
              "    }\n",
              "  }\n",
              "</style>\n",
              "\n",
              "  <script>\n",
              "    async function quickchart(key) {\n",
              "      const quickchartButtonEl =\n",
              "        document.querySelector('#' + key + ' button');\n",
              "      quickchartButtonEl.disabled = true;  // To prevent multiple clicks.\n",
              "      quickchartButtonEl.classList.add('colab-df-spinner');\n",
              "      try {\n",
              "        const charts = await google.colab.kernel.invokeFunction(\n",
              "            'suggestCharts', [key], {});\n",
              "      } catch (error) {\n",
              "        console.error('Error during call to suggestCharts:', error);\n",
              "      }\n",
              "      quickchartButtonEl.classList.remove('colab-df-spinner');\n",
              "      quickchartButtonEl.classList.add('colab-df-quickchart-complete');\n",
              "    }\n",
              "    (() => {\n",
              "      let quickchartButtonEl =\n",
              "        document.querySelector('#df-99d9fc60-c0a7-4f31-aaa2-ae9bf148c789 button');\n",
              "      quickchartButtonEl.style.display =\n",
              "        google.colab.kernel.accessAllowed ? 'block' : 'none';\n",
              "    })();\n",
              "  </script>\n",
              "</div>\n",
              "\n",
              "    </div>\n",
              "  </div>\n"
            ],
            "application/vnd.google.colaboratory.intrinsic+json": {
              "type": "dataframe",
              "variable_name": "train_df",
              "summary": "{\n  \"name\": \"train_df\",\n  \"rows\": 100000,\n  \"fields\": [\n    {\n      \"column\": \"Month\",\n      \"properties\": {\n        \"dtype\": \"category\",\n        \"samples\": [\n          \"c-12\",\n          \"c-3\",\n          \"c-8\"\n        ],\n        \"num_unique_values\": 12,\n        \"semantic_type\": \"\",\n        \"description\": \"\"\n      }\n    },\n    {\n      \"column\": \"DayofMonth\",\n      \"properties\": {\n        \"dtype\": \"category\",\n        \"samples\": [\n          \"c-12\",\n          \"c-22\",\n          \"c-24\"\n        ],\n        \"num_unique_values\": 31,\n        \"semantic_type\": \"\",\n        \"description\": \"\"\n      }\n    },\n    {\n      \"column\": \"DayOfWeek\",\n      \"properties\": {\n        \"dtype\": \"category\",\n        \"samples\": [\n          \"c-7\",\n          \"c-3\",\n          \"c-2\"\n        ],\n        \"num_unique_values\": 7,\n        \"semantic_type\": \"\",\n        \"description\": \"\"\n      }\n    },\n    {\n      \"column\": \"DepTime\",\n      \"properties\": {\n        \"dtype\": \"number\",\n        \"std\": 476,\n        \"min\": 1,\n        \"max\": 2534,\n        \"samples\": [\n          1550,\n          839,\n          1149\n        ],\n        \"num_unique_values\": 1300,\n        \"semantic_type\": \"\",\n        \"description\": \"\"\n      }\n    },\n    {\n      \"column\": \"UniqueCarrier\",\n      \"properties\": {\n        \"dtype\": \"category\",\n        \"samples\": [\n          \"AA\",\n          \"DH\",\n          \"AS\"\n        ],\n        \"num_unique_values\": 22,\n        \"semantic_type\": \"\",\n        \"description\": \"\"\n      }\n    },\n    {\n      \"column\": \"Origin\",\n      \"properties\": {\n        \"dtype\": \"category\",\n        \"samples\": [\n          \"BOS\",\n          \"SRQ\",\n          \"DLG\"\n        ],\n        \"num_unique_values\": 289,\n        \"semantic_type\": \"\",\n        \"description\": \"\"\n      }\n    },\n    {\n      \"column\": \"Dest\",\n      \"properties\": {\n        \"dtype\": \"category\",\n        \"samples\": [\n          \"JAN\",\n          \"SRQ\",\n          \"SCC\"\n        ],\n        \"num_unique_values\": 289,\n        \"semantic_type\": \"\",\n        \"description\": \"\"\n      }\n    },\n    {\n      \"column\": \"Distance\",\n      \"properties\": {\n        \"dtype\": \"number\",\n        \"std\": 574,\n        \"min\": 30,\n        \"max\": 4962,\n        \"samples\": [\n          1142,\n          663,\n          2116\n        ],\n        \"num_unique_values\": 1310,\n        \"semantic_type\": \"\",\n        \"description\": \"\"\n      }\n    },\n    {\n      \"column\": \"dep_delayed_15min\",\n      \"properties\": {\n        \"dtype\": \"category\",\n        \"samples\": [\n          \"Y\",\n          \"N\"\n        ],\n        \"num_unique_values\": 2,\n        \"semantic_type\": \"\",\n        \"description\": \"\"\n      }\n    }\n  ]\n}"
            }
          },
          "metadata": {},
          "execution_count": 12
        }
      ],
      "source": [
        "train_df.head()"
      ]
    },
    {
      "cell_type": "markdown",
      "metadata": {
        "id": "UxGBsPQhffgd"
      },
      "source": [
        "**<font color='teal'> Use the describe function to review the numeric columns in the train dataframe. </font>**"
      ]
    },
    {
      "cell_type": "code",
      "execution_count": 13,
      "metadata": {
        "colab": {
          "base_uri": "https://localhost:8080/",
          "height": 300
        },
        "id": "_bRRKG3DAtae",
        "outputId": "354000ec-f94c-48ae-90c6-df9abfa17184"
      },
      "outputs": [
        {
          "output_type": "execute_result",
          "data": {
            "text/plain": [
              "             DepTime      Distance\n",
              "count  100000.000000  100000.00000\n",
              "mean     1341.523880     729.39716\n",
              "std       476.378445     574.61686\n",
              "min         1.000000      30.00000\n",
              "25%       931.000000     317.00000\n",
              "50%      1330.000000     575.00000\n",
              "75%      1733.000000     957.00000\n",
              "max      2534.000000    4962.00000"
            ],
            "text/html": [
              "\n",
              "  <div id=\"df-33419ff2-475e-48c7-9b84-b37e551d34d7\" class=\"colab-df-container\">\n",
              "    <div>\n",
              "<style scoped>\n",
              "    .dataframe tbody tr th:only-of-type {\n",
              "        vertical-align: middle;\n",
              "    }\n",
              "\n",
              "    .dataframe tbody tr th {\n",
              "        vertical-align: top;\n",
              "    }\n",
              "\n",
              "    .dataframe thead th {\n",
              "        text-align: right;\n",
              "    }\n",
              "</style>\n",
              "<table border=\"1\" class=\"dataframe\">\n",
              "  <thead>\n",
              "    <tr style=\"text-align: right;\">\n",
              "      <th></th>\n",
              "      <th>DepTime</th>\n",
              "      <th>Distance</th>\n",
              "    </tr>\n",
              "  </thead>\n",
              "  <tbody>\n",
              "    <tr>\n",
              "      <th>count</th>\n",
              "      <td>100000.000000</td>\n",
              "      <td>100000.00000</td>\n",
              "    </tr>\n",
              "    <tr>\n",
              "      <th>mean</th>\n",
              "      <td>1341.523880</td>\n",
              "      <td>729.39716</td>\n",
              "    </tr>\n",
              "    <tr>\n",
              "      <th>std</th>\n",
              "      <td>476.378445</td>\n",
              "      <td>574.61686</td>\n",
              "    </tr>\n",
              "    <tr>\n",
              "      <th>min</th>\n",
              "      <td>1.000000</td>\n",
              "      <td>30.00000</td>\n",
              "    </tr>\n",
              "    <tr>\n",
              "      <th>25%</th>\n",
              "      <td>931.000000</td>\n",
              "      <td>317.00000</td>\n",
              "    </tr>\n",
              "    <tr>\n",
              "      <th>50%</th>\n",
              "      <td>1330.000000</td>\n",
              "      <td>575.00000</td>\n",
              "    </tr>\n",
              "    <tr>\n",
              "      <th>75%</th>\n",
              "      <td>1733.000000</td>\n",
              "      <td>957.00000</td>\n",
              "    </tr>\n",
              "    <tr>\n",
              "      <th>max</th>\n",
              "      <td>2534.000000</td>\n",
              "      <td>4962.00000</td>\n",
              "    </tr>\n",
              "  </tbody>\n",
              "</table>\n",
              "</div>\n",
              "    <div class=\"colab-df-buttons\">\n",
              "\n",
              "  <div class=\"colab-df-container\">\n",
              "    <button class=\"colab-df-convert\" onclick=\"convertToInteractive('df-33419ff2-475e-48c7-9b84-b37e551d34d7')\"\n",
              "            title=\"Convert this dataframe to an interactive table.\"\n",
              "            style=\"display:none;\">\n",
              "\n",
              "  <svg xmlns=\"http://www.w3.org/2000/svg\" height=\"24px\" viewBox=\"0 -960 960 960\">\n",
              "    <path d=\"M120-120v-720h720v720H120Zm60-500h600v-160H180v160Zm220 220h160v-160H400v160Zm0 220h160v-160H400v160ZM180-400h160v-160H180v160Zm440 0h160v-160H620v160ZM180-180h160v-160H180v160Zm440 0h160v-160H620v160Z\"/>\n",
              "  </svg>\n",
              "    </button>\n",
              "\n",
              "  <style>\n",
              "    .colab-df-container {\n",
              "      display:flex;\n",
              "      gap: 12px;\n",
              "    }\n",
              "\n",
              "    .colab-df-convert {\n",
              "      background-color: #E8F0FE;\n",
              "      border: none;\n",
              "      border-radius: 50%;\n",
              "      cursor: pointer;\n",
              "      display: none;\n",
              "      fill: #1967D2;\n",
              "      height: 32px;\n",
              "      padding: 0 0 0 0;\n",
              "      width: 32px;\n",
              "    }\n",
              "\n",
              "    .colab-df-convert:hover {\n",
              "      background-color: #E2EBFA;\n",
              "      box-shadow: 0px 1px 2px rgba(60, 64, 67, 0.3), 0px 1px 3px 1px rgba(60, 64, 67, 0.15);\n",
              "      fill: #174EA6;\n",
              "    }\n",
              "\n",
              "    .colab-df-buttons div {\n",
              "      margin-bottom: 4px;\n",
              "    }\n",
              "\n",
              "    [theme=dark] .colab-df-convert {\n",
              "      background-color: #3B4455;\n",
              "      fill: #D2E3FC;\n",
              "    }\n",
              "\n",
              "    [theme=dark] .colab-df-convert:hover {\n",
              "      background-color: #434B5C;\n",
              "      box-shadow: 0px 1px 3px 1px rgba(0, 0, 0, 0.15);\n",
              "      filter: drop-shadow(0px 1px 2px rgba(0, 0, 0, 0.3));\n",
              "      fill: #FFFFFF;\n",
              "    }\n",
              "  </style>\n",
              "\n",
              "    <script>\n",
              "      const buttonEl =\n",
              "        document.querySelector('#df-33419ff2-475e-48c7-9b84-b37e551d34d7 button.colab-df-convert');\n",
              "      buttonEl.style.display =\n",
              "        google.colab.kernel.accessAllowed ? 'block' : 'none';\n",
              "\n",
              "      async function convertToInteractive(key) {\n",
              "        const element = document.querySelector('#df-33419ff2-475e-48c7-9b84-b37e551d34d7');\n",
              "        const dataTable =\n",
              "          await google.colab.kernel.invokeFunction('convertToInteractive',\n",
              "                                                    [key], {});\n",
              "        if (!dataTable) return;\n",
              "\n",
              "        const docLinkHtml = 'Like what you see? Visit the ' +\n",
              "          '<a target=\"_blank\" href=https://colab.research.google.com/notebooks/data_table.ipynb>data table notebook</a>'\n",
              "          + ' to learn more about interactive tables.';\n",
              "        element.innerHTML = '';\n",
              "        dataTable['output_type'] = 'display_data';\n",
              "        await google.colab.output.renderOutput(dataTable, element);\n",
              "        const docLink = document.createElement('div');\n",
              "        docLink.innerHTML = docLinkHtml;\n",
              "        element.appendChild(docLink);\n",
              "      }\n",
              "    </script>\n",
              "  </div>\n",
              "\n",
              "\n",
              "<div id=\"df-c55168fd-bbfd-434d-ab6b-6371183777d9\">\n",
              "  <button class=\"colab-df-quickchart\" onclick=\"quickchart('df-c55168fd-bbfd-434d-ab6b-6371183777d9')\"\n",
              "            title=\"Suggest charts\"\n",
              "            style=\"display:none;\">\n",
              "\n",
              "<svg xmlns=\"http://www.w3.org/2000/svg\" height=\"24px\"viewBox=\"0 0 24 24\"\n",
              "     width=\"24px\">\n",
              "    <g>\n",
              "        <path d=\"M19 3H5c-1.1 0-2 .9-2 2v14c0 1.1.9 2 2 2h14c1.1 0 2-.9 2-2V5c0-1.1-.9-2-2-2zM9 17H7v-7h2v7zm4 0h-2V7h2v10zm4 0h-2v-4h2v4z\"/>\n",
              "    </g>\n",
              "</svg>\n",
              "  </button>\n",
              "\n",
              "<style>\n",
              "  .colab-df-quickchart {\n",
              "      --bg-color: #E8F0FE;\n",
              "      --fill-color: #1967D2;\n",
              "      --hover-bg-color: #E2EBFA;\n",
              "      --hover-fill-color: #174EA6;\n",
              "      --disabled-fill-color: #AAA;\n",
              "      --disabled-bg-color: #DDD;\n",
              "  }\n",
              "\n",
              "  [theme=dark] .colab-df-quickchart {\n",
              "      --bg-color: #3B4455;\n",
              "      --fill-color: #D2E3FC;\n",
              "      --hover-bg-color: #434B5C;\n",
              "      --hover-fill-color: #FFFFFF;\n",
              "      --disabled-bg-color: #3B4455;\n",
              "      --disabled-fill-color: #666;\n",
              "  }\n",
              "\n",
              "  .colab-df-quickchart {\n",
              "    background-color: var(--bg-color);\n",
              "    border: none;\n",
              "    border-radius: 50%;\n",
              "    cursor: pointer;\n",
              "    display: none;\n",
              "    fill: var(--fill-color);\n",
              "    height: 32px;\n",
              "    padding: 0;\n",
              "    width: 32px;\n",
              "  }\n",
              "\n",
              "  .colab-df-quickchart:hover {\n",
              "    background-color: var(--hover-bg-color);\n",
              "    box-shadow: 0 1px 2px rgba(60, 64, 67, 0.3), 0 1px 3px 1px rgba(60, 64, 67, 0.15);\n",
              "    fill: var(--button-hover-fill-color);\n",
              "  }\n",
              "\n",
              "  .colab-df-quickchart-complete:disabled,\n",
              "  .colab-df-quickchart-complete:disabled:hover {\n",
              "    background-color: var(--disabled-bg-color);\n",
              "    fill: var(--disabled-fill-color);\n",
              "    box-shadow: none;\n",
              "  }\n",
              "\n",
              "  .colab-df-spinner {\n",
              "    border: 2px solid var(--fill-color);\n",
              "    border-color: transparent;\n",
              "    border-bottom-color: var(--fill-color);\n",
              "    animation:\n",
              "      spin 1s steps(1) infinite;\n",
              "  }\n",
              "\n",
              "  @keyframes spin {\n",
              "    0% {\n",
              "      border-color: transparent;\n",
              "      border-bottom-color: var(--fill-color);\n",
              "      border-left-color: var(--fill-color);\n",
              "    }\n",
              "    20% {\n",
              "      border-color: transparent;\n",
              "      border-left-color: var(--fill-color);\n",
              "      border-top-color: var(--fill-color);\n",
              "    }\n",
              "    30% {\n",
              "      border-color: transparent;\n",
              "      border-left-color: var(--fill-color);\n",
              "      border-top-color: var(--fill-color);\n",
              "      border-right-color: var(--fill-color);\n",
              "    }\n",
              "    40% {\n",
              "      border-color: transparent;\n",
              "      border-right-color: var(--fill-color);\n",
              "      border-top-color: var(--fill-color);\n",
              "    }\n",
              "    60% {\n",
              "      border-color: transparent;\n",
              "      border-right-color: var(--fill-color);\n",
              "    }\n",
              "    80% {\n",
              "      border-color: transparent;\n",
              "      border-right-color: var(--fill-color);\n",
              "      border-bottom-color: var(--fill-color);\n",
              "    }\n",
              "    90% {\n",
              "      border-color: transparent;\n",
              "      border-bottom-color: var(--fill-color);\n",
              "    }\n",
              "  }\n",
              "</style>\n",
              "\n",
              "  <script>\n",
              "    async function quickchart(key) {\n",
              "      const quickchartButtonEl =\n",
              "        document.querySelector('#' + key + ' button');\n",
              "      quickchartButtonEl.disabled = true;  // To prevent multiple clicks.\n",
              "      quickchartButtonEl.classList.add('colab-df-spinner');\n",
              "      try {\n",
              "        const charts = await google.colab.kernel.invokeFunction(\n",
              "            'suggestCharts', [key], {});\n",
              "      } catch (error) {\n",
              "        console.error('Error during call to suggestCharts:', error);\n",
              "      }\n",
              "      quickchartButtonEl.classList.remove('colab-df-spinner');\n",
              "      quickchartButtonEl.classList.add('colab-df-quickchart-complete');\n",
              "    }\n",
              "    (() => {\n",
              "      let quickchartButtonEl =\n",
              "        document.querySelector('#df-c55168fd-bbfd-434d-ab6b-6371183777d9 button');\n",
              "      quickchartButtonEl.style.display =\n",
              "        google.colab.kernel.accessAllowed ? 'block' : 'none';\n",
              "    })();\n",
              "  </script>\n",
              "</div>\n",
              "\n",
              "    </div>\n",
              "  </div>\n"
            ],
            "application/vnd.google.colaboratory.intrinsic+json": {
              "type": "dataframe",
              "summary": "{\n  \"name\": \"train_df\",\n  \"rows\": 8,\n  \"fields\": [\n    {\n      \"column\": \"DepTime\",\n      \"properties\": {\n        \"dtype\": \"number\",\n        \"std\": 34942.20805093879,\n        \"min\": 1.0,\n        \"max\": 100000.0,\n        \"samples\": [\n          1341.52388,\n          1330.0,\n          100000.0\n        ],\n        \"num_unique_values\": 8,\n        \"semantic_type\": \"\",\n        \"description\": \"\"\n      }\n    },\n    {\n      \"column\": \"Distance\",\n      \"properties\": {\n        \"dtype\": \"number\",\n        \"std\": 34979.40925865424,\n        \"min\": 30.0,\n        \"max\": 100000.0,\n        \"samples\": [\n          729.39716,\n          575.0,\n          100000.0\n        ],\n        \"num_unique_values\": 8,\n        \"semantic_type\": \"\",\n        \"description\": \"\"\n      }\n    }\n  ]\n}"
            }
          },
          "metadata": {},
          "execution_count": 13
        }
      ],
      "source": [
        "train_df.describe()"
      ]
    },
    {
      "cell_type": "markdown",
      "metadata": {
        "id": "i6k-_fI5Aiyh"
      },
      "source": [
        "Notice, `DepTime` is the departure time in a numeric representation in 2400 hours."
      ]
    },
    {
      "cell_type": "markdown",
      "metadata": {
        "id": "gtZS4-hrlQah"
      },
      "source": [
        " **<font color='teal'>The response variable is 'dep_delayed_15min' which is a categorical column, so we need to map the Y for yes and N for no values to 1 and 0. Run the code in the next cell to do this.</font>**"
      ]
    },
    {
      "cell_type": "code",
      "execution_count": 14,
      "metadata": {
        "ExecuteTime": {
          "end_time": "2019-04-22T15:38:42.677690Z",
          "start_time": "2019-04-22T15:38:42.481963Z"
        },
        "id": "yRlOTbnW-KYc"
      },
      "outputs": [],
      "source": [
        "#train_df = train_df[train_df.DepTime <= 2400].copy()\n",
        "y_train = train_df['dep_delayed_15min'].map({'Y': 1, 'N': 0}).values"
      ]
    },
    {
      "cell_type": "markdown",
      "metadata": {
        "id": "z3WPkFQO9uo9"
      },
      "source": [
        "## Feature Engineering\n",
        "Use these defined functions to create additional features for the model. Run the cell to add the functions to your workspace."
      ]
    },
    {
      "cell_type": "code",
      "execution_count": 15,
      "metadata": {
        "id": "cXqsqz5W9t3r"
      },
      "outputs": [],
      "source": [
        "def label_enc(df_column):\n",
        "    df_column = LabelEncoder().fit_transform(df_column)\n",
        "    return df_column\n",
        "\n",
        "def make_harmonic_features_sin(value, period=2400):\n",
        "    value *= 2 * np.pi / period\n",
        "    return np.sin(value)\n",
        "\n",
        "def make_harmonic_features_cos(value, period=2400):\n",
        "    value *= 2 * np.pi / period\n",
        "    return np.cos(value)\n",
        "\n",
        "def feature_eng(df):\n",
        "    df['flight'] = df['Origin']+df['Dest']\n",
        "    df['Month'] = df.Month.map(lambda x: x.split('-')[-1]).astype('int32')\n",
        "    df['DayofMonth'] = df.DayofMonth.map(lambda x: x.split('-')[-1]).astype('uint8')\n",
        "    df['begin_of_month'] = (df['DayofMonth'] < 10).astype('uint8')\n",
        "    df['midddle_of_month'] = ((df['DayofMonth'] >= 10)&(df['DayofMonth'] < 20)).astype('uint8')\n",
        "    df['end_of_month'] = (df['DayofMonth'] >= 20).astype('uint8')\n",
        "    df['DayOfWeek'] = df.DayOfWeek.map(lambda x: x.split('-')[-1]).astype('uint8')\n",
        "    df['hour'] = df.DepTime.map(lambda x: x/100).astype('int32')\n",
        "    df['morning'] = df['hour'].map(lambda x: 1 if (x <= 11)& (x >= 7) else 0).astype('uint8')\n",
        "    df['day'] = df['hour'].map(lambda x: 1 if (x >= 12) & (x <= 18) else 0).astype('uint8')\n",
        "    df['evening'] = df['hour'].map(lambda x: 1 if (x >= 19) & (x <= 23) else 0).astype('uint8')\n",
        "    df['night'] = df['hour'].map(lambda x: 1 if (x >= 0) & (x <= 6) else 0).astype('int32')\n",
        "    df['winter'] = df['Month'].map(lambda x: x in [12, 1, 2]).astype('int32')\n",
        "    df['spring'] = df['Month'].map(lambda x: x in [3, 4, 5]).astype('int32')\n",
        "    df['summer'] = df['Month'].map(lambda x: x in [6, 7, 8]).astype('int32')\n",
        "    df['autumn'] = df['Month'].map(lambda x: x in [9, 10, 11]).astype('int32')\n",
        "    df['holiday'] = (df['DayOfWeek'] >= 5).astype(int)\n",
        "    df['weekday'] = (df['DayOfWeek'] < 5).astype(int)\n",
        "    df['airport_dest_per_month'] = df.groupby(['Dest', 'Month'])['Dest'].transform('count')\n",
        "    df['airport_origin_per_month'] = df.groupby(['Origin', 'Month'])['Origin'].transform('count')\n",
        "    df['airport_dest_count'] = df.groupby(['Dest'])['Dest'].transform('count')\n",
        "    df['airport_origin_count'] = df.groupby(['Origin'])['Origin'].transform('count')\n",
        "    df['carrier_count'] = df.groupby(['UniqueCarrier'])['Dest'].transform('count')\n",
        "    df['carrier_count_per month'] = df.groupby(['UniqueCarrier', 'Month'])['Dest'].transform('count')\n",
        "    df['deptime_cos'] = df['DepTime'].map(make_harmonic_features_cos)\n",
        "    df['deptime_sin'] = df['DepTime'].map(make_harmonic_features_sin)\n",
        "    df['flightUC'] = df['flight']+df['UniqueCarrier']\n",
        "    df['DestUC'] = df['Dest']+df['UniqueCarrier']\n",
        "    df['OriginUC'] = df['Origin']+df['UniqueCarrier']\n",
        "    return df.drop('DepTime', axis=1)"
      ]
    },
    {
      "cell_type": "markdown",
      "metadata": {
        "id": "-BYbxXpU-FGE"
      },
      "source": [
        "Concatenate the training and testing dataframes.\n"
      ]
    },
    {
      "cell_type": "code",
      "execution_count": 16,
      "metadata": {
        "id": "Cj6bfSNw_RAf"
      },
      "outputs": [],
      "source": [
        "full_df = pd.concat([train_df.drop('dep_delayed_15min', axis=1), test_df])\n",
        "full_df = feature_eng(full_df)"
      ]
    },
    {
      "cell_type": "markdown",
      "metadata": {
        "id": "GSO8JbfM_W-F"
      },
      "source": [
        "Apply the earlier defined feature engineering functions to the full dataframe."
      ]
    },
    {
      "cell_type": "code",
      "execution_count": 17,
      "metadata": {
        "id": "x6RfAINftjwi"
      },
      "outputs": [],
      "source": [
        "for column in ['UniqueCarrier', 'Origin', 'Dest','flight',  'flightUC', 'DestUC', 'OriginUC']:\n",
        "    full_df[column] = label_enc(full_df[column])"
      ]
    },
    {
      "cell_type": "markdown",
      "metadata": {
        "id": "IJAw1RGB_ZuM"
      },
      "source": [
        "\n",
        "Split the new full dataframe into X_train and X_test."
      ]
    },
    {
      "cell_type": "code",
      "execution_count": 18,
      "metadata": {
        "id": "15cPtQU5tjfz"
      },
      "outputs": [],
      "source": [
        "X_train = full_df[:train_df.shape[0]]\n",
        "X_test = full_df[train_df.shape[0]:]"
      ]
    },
    {
      "cell_type": "markdown",
      "metadata": {
        "id": "umfAw-9JErLV"
      },
      "source": [
        "Create a list of the categorical features."
      ]
    },
    {
      "cell_type": "code",
      "execution_count": 19,
      "metadata": {
        "ExecuteTime": {
          "end_time": "2019-04-22T14:31:58.412296Z",
          "start_time": "2019-04-22T14:31:58.409088Z"
        },
        "id": "5ibeVyNb-KZI"
      },
      "outputs": [],
      "source": [
        "categorical_features = ['Month',  'DayOfWeek', 'UniqueCarrier', 'Origin', 'Dest','flight',  'flightUC', 'DestUC', 'OriginUC']"
      ]
    },
    {
      "cell_type": "markdown",
      "metadata": {
        "id": "NzMIsMPIETVk"
      },
      "source": [
        "Let's build a light GBM model to test the bayesian optimizer."
      ]
    },
    {
      "cell_type": "markdown",
      "metadata": {
        "ExecuteTime": {
          "end_time": "2019-04-22T15:18:04.466965Z",
          "start_time": "2019-04-22T15:18:04.457992Z"
        },
        "id": "2hfm1i5G-KZH"
      },
      "source": [
        "### [LightGBM](https://lightgbm.readthedocs.io/en/latest/) is a gradient boosting framework that uses tree-based learning algorithms. It is designed to be distributed and efficient with the following advantages:\n",
        "\n",
        "* Faster training speed and higher efficiency.\n",
        "* Lower memory usage.\n",
        "* Better accuracy.\n",
        "* Support of parallel and GPU learning.\n",
        "* Capable of handling large-scale data."
      ]
    },
    {
      "cell_type": "markdown",
      "metadata": {
        "id": "jf-3F2Wg-KZL"
      },
      "source": [
        "First, we define the function we want to maximize and that will count cross-validation metrics of lightGBM for our parameters.\n",
        "\n",
        "Some params such as num_leaves, max_depth, min_child_samples, min_data_in_leaf should be integers."
      ]
    },
    {
      "cell_type": "code",
      "execution_count": 20,
      "metadata": {
        "ExecuteTime": {
          "end_time": "2019-04-22T15:40:14.034265Z",
          "start_time": "2019-04-22T15:40:14.027868Z"
        },
        "id": "LyUJBhGX-KZM"
      },
      "outputs": [],
      "source": [
        "def lgb_eval(num_leaves,max_depth,lambda_l2,lambda_l1,min_child_samples, min_data_in_leaf):\n",
        "    params = {\n",
        "        \"objective\" : \"binary\",\n",
        "        \"metric\" : \"auc\",\n",
        "        'is_unbalance': True,\n",
        "        \"num_leaves\" : int(num_leaves),\n",
        "        \"max_depth\" : int(max_depth),\n",
        "        \"lambda_l2\" : lambda_l2,\n",
        "        \"lambda_l1\" : lambda_l1,\n",
        "        \"num_threads\" : 20,\n",
        "        \"min_child_samples\" : int(min_child_samples),\n",
        "        'min_data_in_leaf': int(min_data_in_leaf),\n",
        "        \"learning_rate\" : 0.03,\n",
        "        \"subsample_freq\" : 5,\n",
        "        \"bagging_seed\" : 42,\n",
        "        \"verbosity\" : -1\n",
        "    }\n",
        "    lgtrain = lightgbm.Dataset(X_train, y_train,categorical_feature=categorical_features)\n",
        "    cv_result = lightgbm.cv(params,\n",
        "                       lgtrain,\n",
        "                       1000,\n",
        "                       early_stopping_rounds=100,\n",
        "                       stratified=True,\n",
        "                       nfold=3)\n",
        "    return cv_result['auc-mean'][-1]"
      ]
    },
    {
      "cell_type": "code",
      "source": [
        "!pip install optuna"
      ],
      "metadata": {
        "colab": {
          "base_uri": "https://localhost:8080/"
        },
        "id": "Y31OLgdhbevv",
        "outputId": "964cc620-f233-486c-c516-87d5869a3593"
      },
      "execution_count": 21,
      "outputs": [
        {
          "output_type": "stream",
          "name": "stdout",
          "text": [
            "Collecting optuna\n",
            "  Downloading optuna-3.5.0-py3-none-any.whl (413 kB)\n",
            "\u001b[2K     \u001b[90m━━━━━━━━━━━━━━━━━━━━━━━━━━━━━━━━━━━━━━━━\u001b[0m \u001b[32m413.4/413.4 kB\u001b[0m \u001b[31m5.6 MB/s\u001b[0m eta \u001b[36m0:00:00\u001b[0m\n",
            "\u001b[?25hCollecting alembic>=1.5.0 (from optuna)\n",
            "  Downloading alembic-1.13.1-py3-none-any.whl (233 kB)\n",
            "\u001b[2K     \u001b[90m━━━━━━━━━━━━━━━━━━━━━━━━━━━━━━━━━━━━━━━━\u001b[0m \u001b[32m233.4/233.4 kB\u001b[0m \u001b[31m10.0 MB/s\u001b[0m eta \u001b[36m0:00:00\u001b[0m\n",
            "\u001b[?25hCollecting colorlog (from optuna)\n",
            "  Downloading colorlog-6.8.2-py3-none-any.whl (11 kB)\n",
            "Requirement already satisfied: numpy in /usr/local/lib/python3.10/dist-packages (from optuna) (1.25.2)\n",
            "Requirement already satisfied: packaging>=20.0 in /usr/local/lib/python3.10/dist-packages (from optuna) (23.2)\n",
            "Requirement already satisfied: sqlalchemy>=1.3.0 in /usr/local/lib/python3.10/dist-packages (from optuna) (2.0.25)\n",
            "Requirement already satisfied: tqdm in /usr/local/lib/python3.10/dist-packages (from optuna) (4.66.1)\n",
            "Requirement already satisfied: PyYAML in /usr/local/lib/python3.10/dist-packages (from optuna) (6.0.1)\n",
            "Collecting Mako (from alembic>=1.5.0->optuna)\n",
            "  Downloading Mako-1.3.2-py3-none-any.whl (78 kB)\n",
            "\u001b[2K     \u001b[90m━━━━━━━━━━━━━━━━━━━━━━━━━━━━━━━━━━━━━━━━\u001b[0m \u001b[32m78.7/78.7 kB\u001b[0m \u001b[31m11.2 MB/s\u001b[0m eta \u001b[36m0:00:00\u001b[0m\n",
            "\u001b[?25hRequirement already satisfied: typing-extensions>=4 in /usr/local/lib/python3.10/dist-packages (from alembic>=1.5.0->optuna) (4.9.0)\n",
            "Requirement already satisfied: greenlet!=0.4.17 in /usr/local/lib/python3.10/dist-packages (from sqlalchemy>=1.3.0->optuna) (3.0.3)\n",
            "Requirement already satisfied: MarkupSafe>=0.9.2 in /usr/local/lib/python3.10/dist-packages (from Mako->alembic>=1.5.0->optuna) (2.1.5)\n",
            "Installing collected packages: Mako, colorlog, alembic, optuna\n",
            "Successfully installed Mako-1.3.2 alembic-1.13.1 colorlog-6.8.2 optuna-3.5.0\n"
          ]
        }
      ]
    },
    {
      "cell_type": "code",
      "source": [
        "import lightgbm as lgb\n",
        "from sklearn.model_selection import KFold\n",
        "\n",
        "def lgb_eval(num_leaves, max_depth, lambda_l2, lambda_l1, min_child_samples, min_data_in_leaf):\n",
        "    params = {\n",
        "        'objective': 'binary',\n",
        "        'metric': 'binary_logloss',\n",
        "        'num_leaves': int(num_leaves),\n",
        "        'max_depth': int(max_depth),\n",
        "        'lambda_l2': lambda_l2,\n",
        "        'lambda_l1': lambda_l1,\n",
        "        'min_child_samples': int(min_child_samples),\n",
        "        'min_data_in_leaf': int(min_data_in_leaf),\n",
        "        'learning_rate': 0.01,\n",
        "        'verbosity': -1,\n",
        "        'num_threads': 4\n",
        "    }\n",
        "\n",
        "    lgtrain = lgb.Dataset(X_train, y_train, categorical_feature=categorical_features)\n",
        "\n",
        "    cv_results = lgb.cv(params,\n",
        "                        lgtrain,\n",
        "                        num_boost_round=1000,\n",
        "                        nfold=5,\n",
        "                        stratified=True,\n",
        "                        verbose_eval=50,\n",
        "                        early_stopping_rounds=None,  # Remove this parameter\n",
        "                        metrics=['binary_logloss'])\n",
        "\n",
        "    # Find the optimal number of boosting rounds\n",
        "    optimal_rounds = np.argmin(cv_results['binary_logloss-mean'])\n",
        "\n",
        "    return -cv_results['binary_logloss-mean'][optimal_rounds]\n"
      ],
      "metadata": {
        "id": "clx9dhi3oTol"
      },
      "execution_count": 22,
      "outputs": []
    },
    {
      "cell_type": "code",
      "source": [],
      "metadata": {
        "id": "7EXGEdVIZfPv"
      },
      "execution_count": 22,
      "outputs": []
    },
    {
      "cell_type": "markdown",
      "metadata": {
        "id": "FJwqBhdeF11Q"
      },
      "source": [
        "Apply the Bayesian optimizer to the function we created in the previous step to identify the best hyperparameters. We will run 10 iterations and set init_points = 2.\n"
      ]
    },
    {
      "cell_type": "code",
      "execution_count": 23,
      "metadata": {
        "ExecuteTime": {
          "end_time": "2019-04-22T15:48:04.682447Z",
          "start_time": "2019-04-22T15:40:14.641634Z"
        },
        "colab": {
          "base_uri": "https://localhost:8080/"
        },
        "id": "JheCOkUE-KZP",
        "outputId": "1139cca6-5007-420e-a47a-b988815a1db4"
      },
      "outputs": [
        {
          "output_type": "stream",
          "name": "stdout",
          "text": [
            "|   iter    |  target   | lambda_l1 | lambda_l2 | max_depth | min_ch... | min_da... | num_le... |\n",
            "-------------------------------------------------------------------------------------------------\n",
            "[LightGBM] [Warning] min_data_in_leaf is set=1053, min_child_samples=4149 will be ignored. Current value: min_data_in_leaf=1053\n",
            "[50]\tcv_agg's binary_logloss: 0.457072 + 0.00117035\n",
            "[100]\tcv_agg's binary_logloss: 0.443711 + 0.001697\n",
            "[150]\tcv_agg's binary_logloss: 0.437279 + 0.0020113\n",
            "[200]\tcv_agg's binary_logloss: 0.433845 + 0.00239488\n",
            "[250]\tcv_agg's binary_logloss: 0.431879 + 0.00270884\n",
            "[300]\tcv_agg's binary_logloss: 0.430804 + 0.0029815\n",
            "[350]\tcv_agg's binary_logloss: 0.430202 + 0.00321151\n",
            "[400]\tcv_agg's binary_logloss: 0.429854 + 0.00323395\n",
            "[450]\tcv_agg's binary_logloss: 0.429644 + 0.00322699\n",
            "[500]\tcv_agg's binary_logloss: 0.429596 + 0.0032242\n",
            "[550]\tcv_agg's binary_logloss: 0.429645 + 0.00322555\n",
            "[600]\tcv_agg's binary_logloss: 0.429629 + 0.00319581\n",
            "[650]\tcv_agg's binary_logloss: 0.429676 + 0.00323224\n",
            "[700]\tcv_agg's binary_logloss: 0.429696 + 0.00321774\n",
            "[750]\tcv_agg's binary_logloss: 0.429685 + 0.00319558\n",
            "[800]\tcv_agg's binary_logloss: 0.42969 + 0.00318364\n",
            "[850]\tcv_agg's binary_logloss: 0.429744 + 0.00319351\n",
            "[900]\tcv_agg's binary_logloss: 0.429784 + 0.00318111\n",
            "[950]\tcv_agg's binary_logloss: 0.429814 + 0.00310711\n",
            "[1000]\tcv_agg's binary_logloss: 0.429848 + 0.00303392\n",
            "| \u001b[0m1        \u001b[0m | \u001b[0m-0.4296  \u001b[0m | \u001b[0m0.01607  \u001b[0m | \u001b[0m0.03667  \u001b[0m | \u001b[0m10.49    \u001b[0m | \u001b[0m4.149e+03\u001b[0m | \u001b[0m1.054e+03\u001b[0m | \u001b[0m3.052e+03\u001b[0m |\n",
            "[50]\tcv_agg's binary_logloss: 0.454905 + 0.00117938\n",
            "[100]\tcv_agg's binary_logloss: 0.441768 + 0.00169462\n",
            "[150]\tcv_agg's binary_logloss: 0.436719 + 0.00235911\n",
            "[200]\tcv_agg's binary_logloss: 0.434982 + 0.00275426\n",
            "[250]\tcv_agg's binary_logloss: 0.435221 + 0.00312564\n",
            "[300]\tcv_agg's binary_logloss: 0.435897 + 0.00340628\n",
            "[350]\tcv_agg's binary_logloss: 0.436741 + 0.00369252\n",
            "[400]\tcv_agg's binary_logloss: 0.437792 + 0.00402563\n",
            "[450]\tcv_agg's binary_logloss: 0.438702 + 0.00427136\n",
            "[500]\tcv_agg's binary_logloss: 0.439703 + 0.00426901\n",
            "[550]\tcv_agg's binary_logloss: 0.440736 + 0.00430841\n",
            "[600]\tcv_agg's binary_logloss: 0.441706 + 0.0042895\n",
            "[650]\tcv_agg's binary_logloss: 0.44269 + 0.00440638\n",
            "[700]\tcv_agg's binary_logloss: 0.443612 + 0.00446725\n",
            "[750]\tcv_agg's binary_logloss: 0.44459 + 0.00455957\n",
            "[800]\tcv_agg's binary_logloss: 0.445538 + 0.00446464\n",
            "[850]\tcv_agg's binary_logloss: 0.446415 + 0.00447931\n",
            "[900]\tcv_agg's binary_logloss: 0.44736 + 0.00449828\n",
            "[950]\tcv_agg's binary_logloss: 0.448173 + 0.00441784\n",
            "[1000]\tcv_agg's binary_logloss: 0.448887 + 0.00446413\n",
            "| \u001b[0m2        \u001b[0m | \u001b[0m-0.4349  \u001b[0m | \u001b[0m0.01008  \u001b[0m | \u001b[0m0.01952  \u001b[0m | \u001b[0m29.52    \u001b[0m | \u001b[0m2.488e+03\u001b[0m | \u001b[0m481.2    \u001b[0m | \u001b[0m1.581e+03\u001b[0m |\n",
            "[50]\tcv_agg's binary_logloss: 0.458311 + 0.00110156\n",
            "[100]\tcv_agg's binary_logloss: 0.445303 + 0.00180826\n",
            "[150]\tcv_agg's binary_logloss: 0.438805 + 0.0022772\n",
            "[200]\tcv_agg's binary_logloss: 0.435307 + 0.00262357\n",
            "[250]\tcv_agg's binary_logloss: 0.433215 + 0.00289721\n",
            "[300]\tcv_agg's binary_logloss: 0.431671 + 0.00311136\n",
            "[350]\tcv_agg's binary_logloss: 0.430482 + 0.00327895\n",
            "[400]\tcv_agg's binary_logloss: 0.429475 + 0.00343346\n",
            "[450]\tcv_agg's binary_logloss: 0.428632 + 0.00342287\n",
            "[500]\tcv_agg's binary_logloss: 0.427865 + 0.00348386\n",
            "[550]\tcv_agg's binary_logloss: 0.42717 + 0.00346573\n",
            "[600]\tcv_agg's binary_logloss: 0.426659 + 0.00341795\n",
            "[650]\tcv_agg's binary_logloss: 0.426142 + 0.00343153\n",
            "[700]\tcv_agg's binary_logloss: 0.425692 + 0.00342023\n",
            "[750]\tcv_agg's binary_logloss: 0.425278 + 0.00342657\n",
            "[800]\tcv_agg's binary_logloss: 0.424931 + 0.00344544\n",
            "[850]\tcv_agg's binary_logloss: 0.424665 + 0.00338846\n",
            "[900]\tcv_agg's binary_logloss: 0.424374 + 0.00332801\n",
            "[950]\tcv_agg's binary_logloss: 0.424088 + 0.00329831\n",
            "[1000]\tcv_agg's binary_logloss: 0.423824 + 0.00328171\n",
            "| \u001b[95m3        \u001b[0m | \u001b[95m-0.4238  \u001b[0m | \u001b[95m0.03333  \u001b[0m | \u001b[95m0.01013  \u001b[0m | \u001b[95m51.74    \u001b[0m | \u001b[95m2.954e+03\u001b[0m | \u001b[95m1.98e+03 \u001b[0m | \u001b[95m1.666e+03\u001b[0m |\n",
            "[50]\tcv_agg's binary_logloss: 0.457967 + 0.00107308\n",
            "[100]\tcv_agg's binary_logloss: 0.444704 + 0.00173853\n",
            "[150]\tcv_agg's binary_logloss: 0.438104 + 0.00221194\n",
            "[200]\tcv_agg's binary_logloss: 0.43452 + 0.00254039\n",
            "[250]\tcv_agg's binary_logloss: 0.432551 + 0.0028517\n",
            "[300]\tcv_agg's binary_logloss: 0.431252 + 0.00304196\n",
            "[350]\tcv_agg's binary_logloss: 0.430375 + 0.00326292\n",
            "[400]\tcv_agg's binary_logloss: 0.429642 + 0.00337815\n",
            "[450]\tcv_agg's binary_logloss: 0.428945 + 0.00348729\n",
            "[500]\tcv_agg's binary_logloss: 0.428346 + 0.00349197\n",
            "[550]\tcv_agg's binary_logloss: 0.427761 + 0.00342345\n",
            "[600]\tcv_agg's binary_logloss: 0.427172 + 0.00338018\n",
            "[650]\tcv_agg's binary_logloss: 0.426595 + 0.00328748\n",
            "[700]\tcv_agg's binary_logloss: 0.426097 + 0.00319906\n",
            "[750]\tcv_agg's binary_logloss: 0.425636 + 0.00314042\n",
            "[800]\tcv_agg's binary_logloss: 0.425301 + 0.00311525\n",
            "[850]\tcv_agg's binary_logloss: 0.424963 + 0.00306372\n",
            "[900]\tcv_agg's binary_logloss: 0.424698 + 0.00305406\n",
            "[950]\tcv_agg's binary_logloss: 0.424412 + 0.00302742\n",
            "[1000]\tcv_agg's binary_logloss: 0.424157 + 0.00297639\n",
            "| \u001b[0m4        \u001b[0m | \u001b[0m-0.4242  \u001b[0m | \u001b[0m0.03725  \u001b[0m | \u001b[0m0.04747  \u001b[0m | \u001b[0m38.35    \u001b[0m | \u001b[0m5.289e+03\u001b[0m | \u001b[0m1.634e+03\u001b[0m | \u001b[0m2.556e+03\u001b[0m |\n",
            "[50]\tcv_agg's binary_logloss: 0.455388 + 0.00109198\n",
            "[100]\tcv_agg's binary_logloss: 0.442201 + 0.00160722\n",
            "[150]\tcv_agg's binary_logloss: 0.436641 + 0.00213514\n",
            "[200]\tcv_agg's binary_logloss: 0.434204 + 0.00254657\n",
            "[250]\tcv_agg's binary_logloss: 0.433732 + 0.0029864\n",
            "[300]\tcv_agg's binary_logloss: 0.433446 + 0.0032262\n",
            "[350]\tcv_agg's binary_logloss: 0.433045 + 0.00339414\n",
            "[400]\tcv_agg's binary_logloss: 0.432917 + 0.00357989\n",
            "[450]\tcv_agg's binary_logloss: 0.432828 + 0.00365825\n",
            "[500]\tcv_agg's binary_logloss: 0.432919 + 0.00368422\n",
            "[550]\tcv_agg's binary_logloss: 0.433063 + 0.00367768\n",
            "[600]\tcv_agg's binary_logloss: 0.4332 + 0.00367577\n",
            "[650]\tcv_agg's binary_logloss: 0.43342 + 0.00371227\n",
            "[700]\tcv_agg's binary_logloss: 0.433782 + 0.00366191\n",
            "[750]\tcv_agg's binary_logloss: 0.4341 + 0.00353595\n",
            "[800]\tcv_agg's binary_logloss: 0.434364 + 0.00351848\n",
            "[850]\tcv_agg's binary_logloss: 0.434697 + 0.00350131\n",
            "[900]\tcv_agg's binary_logloss: 0.434971 + 0.00351539\n",
            "[950]\tcv_agg's binary_logloss: 0.435253 + 0.00351697\n",
            "[1000]\tcv_agg's binary_logloss: 0.435563 + 0.00354443\n",
            "| \u001b[0m5        \u001b[0m | \u001b[0m-0.4328  \u001b[0m | \u001b[0m0.0223   \u001b[0m | \u001b[0m0.01772  \u001b[0m | \u001b[0m43.78    \u001b[0m | \u001b[0m9.382e+03\u001b[0m | \u001b[0m591.0    \u001b[0m | \u001b[0m3.525e+03\u001b[0m |\n",
            "[50]\tcv_agg's binary_logloss: 0.458288 + 0.00114483\n",
            "[100]\tcv_agg's binary_logloss: 0.445231 + 0.00178084\n",
            "[150]\tcv_agg's binary_logloss: 0.438716 + 0.0022205\n",
            "[200]\tcv_agg's binary_logloss: 0.435183 + 0.00259813\n",
            "[250]\tcv_agg's binary_logloss: 0.433082 + 0.00292928\n",
            "[300]\tcv_agg's binary_logloss: 0.431556 + 0.00318239\n",
            "[350]\tcv_agg's binary_logloss: 0.430452 + 0.00348137\n",
            "[400]\tcv_agg's binary_logloss: 0.429434 + 0.00356244\n",
            "[450]\tcv_agg's binary_logloss: 0.428625 + 0.0036174\n",
            "[500]\tcv_agg's binary_logloss: 0.427865 + 0.00362207\n",
            "[550]\tcv_agg's binary_logloss: 0.427184 + 0.00362636\n",
            "[600]\tcv_agg's binary_logloss: 0.426623 + 0.00356081\n",
            "[650]\tcv_agg's binary_logloss: 0.42605 + 0.00353932\n",
            "[700]\tcv_agg's binary_logloss: 0.425551 + 0.00352133\n",
            "[750]\tcv_agg's binary_logloss: 0.425133 + 0.00356322\n",
            "[800]\tcv_agg's binary_logloss: 0.424798 + 0.00357413\n",
            "[850]\tcv_agg's binary_logloss: 0.424485 + 0.00352726\n",
            "[900]\tcv_agg's binary_logloss: 0.424218 + 0.00348239\n",
            "[950]\tcv_agg's binary_logloss: 0.423994 + 0.00345807\n",
            "[1000]\tcv_agg's binary_logloss: 0.423766 + 0.00343602\n",
            "| \u001b[95m6        \u001b[0m | \u001b[95m-0.4238  \u001b[0m | \u001b[95m0.0358   \u001b[0m | \u001b[95m0.04973  \u001b[0m | \u001b[95m59.73    \u001b[0m | \u001b[95m6.069e+03\u001b[0m | \u001b[95m1.94e+03 \u001b[0m | \u001b[95m2.58e+03 \u001b[0m |\n",
            "[50]\tcv_agg's binary_logloss: 0.455307 + 0.00109292\n",
            "[100]\tcv_agg's binary_logloss: 0.442123 + 0.00167031\n",
            "[150]\tcv_agg's binary_logloss: 0.43666 + 0.00213086\n",
            "[200]\tcv_agg's binary_logloss: 0.434323 + 0.00257305\n",
            "[250]\tcv_agg's binary_logloss: 0.434045 + 0.00298465\n",
            "[300]\tcv_agg's binary_logloss: 0.433999 + 0.00330689\n",
            "[350]\tcv_agg's binary_logloss: 0.43378 + 0.00346629\n",
            "[400]\tcv_agg's binary_logloss: 0.433741 + 0.00371056\n",
            "[450]\tcv_agg's binary_logloss: 0.433839 + 0.00376934\n",
            "[500]\tcv_agg's binary_logloss: 0.43395 + 0.00382369\n",
            "[550]\tcv_agg's binary_logloss: 0.434103 + 0.00386701\n",
            "[600]\tcv_agg's binary_logloss: 0.434349 + 0.00396754\n",
            "[650]\tcv_agg's binary_logloss: 0.434803 + 0.00376665\n",
            "[700]\tcv_agg's binary_logloss: 0.435131 + 0.00366805\n",
            "[750]\tcv_agg's binary_logloss: 0.435485 + 0.00371157\n",
            "[800]\tcv_agg's binary_logloss: 0.435732 + 0.00371715\n",
            "[850]\tcv_agg's binary_logloss: 0.43605 + 0.00369896\n",
            "[900]\tcv_agg's binary_logloss: 0.43643 + 0.00375862\n",
            "[950]\tcv_agg's binary_logloss: 0.436733 + 0.00375111\n",
            "[1000]\tcv_agg's binary_logloss: 0.437065 + 0.00376954\n",
            "| \u001b[0m7        \u001b[0m | \u001b[0m-0.4337  \u001b[0m | \u001b[0m0.03454  \u001b[0m | \u001b[0m0.02944  \u001b[0m | \u001b[0m61.82    \u001b[0m | \u001b[0m2.737e+03\u001b[0m | \u001b[0m563.2    \u001b[0m | \u001b[0m276.1    \u001b[0m |\n",
            "[50]\tcv_agg's binary_logloss: 0.458334 + 0.00114831\n",
            "[100]\tcv_agg's binary_logloss: 0.445304 + 0.00179603\n",
            "[150]\tcv_agg's binary_logloss: 0.438812 + 0.00221876\n",
            "[200]\tcv_agg's binary_logloss: 0.435334 + 0.00262896\n",
            "[250]\tcv_agg's binary_logloss: 0.433235 + 0.00295285\n",
            "[300]\tcv_agg's binary_logloss: 0.431692 + 0.00318262\n",
            "[350]\tcv_agg's binary_logloss: 0.430422 + 0.00342654\n",
            "[400]\tcv_agg's binary_logloss: 0.429382 + 0.00352066\n",
            "[450]\tcv_agg's binary_logloss: 0.428502 + 0.00357424\n",
            "[500]\tcv_agg's binary_logloss: 0.427791 + 0.00359724\n",
            "[550]\tcv_agg's binary_logloss: 0.427164 + 0.0035469\n",
            "[600]\tcv_agg's binary_logloss: 0.426629 + 0.00348754\n",
            "[650]\tcv_agg's binary_logloss: 0.426128 + 0.00347935\n",
            "[700]\tcv_agg's binary_logloss: 0.425709 + 0.00351642\n",
            "[750]\tcv_agg's binary_logloss: 0.425303 + 0.00351268\n",
            "[800]\tcv_agg's binary_logloss: 0.424953 + 0.0035002\n",
            "[850]\tcv_agg's binary_logloss: 0.424637 + 0.0034826\n",
            "[900]\tcv_agg's binary_logloss: 0.42433 + 0.00340805\n",
            "[950]\tcv_agg's binary_logloss: 0.424057 + 0.00341037\n",
            "[1000]\tcv_agg's binary_logloss: 0.423795 + 0.00341444\n",
            "| \u001b[0m8        \u001b[0m | \u001b[0m-0.4238  \u001b[0m | \u001b[0m0.02535  \u001b[0m | \u001b[0m0.02981  \u001b[0m | \u001b[0m30.17    \u001b[0m | \u001b[0m4.49e+03 \u001b[0m | \u001b[0m1.984e+03\u001b[0m | \u001b[0m1.431e+03\u001b[0m |\n",
            "[50]\tcv_agg's binary_logloss: 0.458288 + 0.00113425\n",
            "[100]\tcv_agg's binary_logloss: 0.445258 + 0.00181709\n",
            "[150]\tcv_agg's binary_logloss: 0.438735 + 0.00224782\n",
            "[200]\tcv_agg's binary_logloss: 0.435244 + 0.00259967\n",
            "[250]\tcv_agg's binary_logloss: 0.433132 + 0.00292036\n",
            "[300]\tcv_agg's binary_logloss: 0.431634 + 0.00320667\n",
            "[350]\tcv_agg's binary_logloss: 0.430545 + 0.00340631\n",
            "[400]\tcv_agg's binary_logloss: 0.429555 + 0.00349317\n",
            "[450]\tcv_agg's binary_logloss: 0.428722 + 0.00354823\n",
            "[500]\tcv_agg's binary_logloss: 0.427995 + 0.00357671\n",
            "[550]\tcv_agg's binary_logloss: 0.427324 + 0.00350361\n",
            "[600]\tcv_agg's binary_logloss: 0.426723 + 0.00349326\n",
            "[650]\tcv_agg's binary_logloss: 0.426242 + 0.00351483\n",
            "[700]\tcv_agg's binary_logloss: 0.425799 + 0.00347457\n",
            "[750]\tcv_agg's binary_logloss: 0.425445 + 0.00347027\n",
            "[800]\tcv_agg's binary_logloss: 0.425079 + 0.00345908\n",
            "[850]\tcv_agg's binary_logloss: 0.424769 + 0.00341934\n",
            "[900]\tcv_agg's binary_logloss: 0.424515 + 0.00336442\n",
            "[950]\tcv_agg's binary_logloss: 0.424271 + 0.00334491\n",
            "[1000]\tcv_agg's binary_logloss: 0.424061 + 0.00335575\n",
            "| \u001b[0m9        \u001b[0m | \u001b[0m-0.4241  \u001b[0m | \u001b[0m0.04485  \u001b[0m | \u001b[0m0.0352   \u001b[0m | \u001b[0m47.91    \u001b[0m | \u001b[0m6.496e+03\u001b[0m | \u001b[0m1.943e+03\u001b[0m | \u001b[0m604.9    \u001b[0m |\n",
            "[50]\tcv_agg's binary_logloss: 0.455807 + 0.00112948\n",
            "[100]\tcv_agg's binary_logloss: 0.442454 + 0.00158393\n",
            "[150]\tcv_agg's binary_logloss: 0.436517 + 0.00200737\n",
            "[200]\tcv_agg's binary_logloss: 0.433776 + 0.00239823\n",
            "[250]\tcv_agg's binary_logloss: 0.432744 + 0.00275199\n",
            "[300]\tcv_agg's binary_logloss: 0.431802 + 0.00310623\n",
            "[350]\tcv_agg's binary_logloss: 0.431306 + 0.00334655\n",
            "[400]\tcv_agg's binary_logloss: 0.431082 + 0.00345015\n",
            "[450]\tcv_agg's binary_logloss: 0.430971 + 0.00348773\n",
            "[500]\tcv_agg's binary_logloss: 0.430963 + 0.00348472\n",
            "[550]\tcv_agg's binary_logloss: 0.431032 + 0.00349663\n",
            "[600]\tcv_agg's binary_logloss: 0.431219 + 0.00349506\n",
            "[650]\tcv_agg's binary_logloss: 0.431384 + 0.00354868\n",
            "[700]\tcv_agg's binary_logloss: 0.43156 + 0.00355705\n",
            "[750]\tcv_agg's binary_logloss: 0.431792 + 0.00346391\n",
            "[800]\tcv_agg's binary_logloss: 0.432048 + 0.00343656\n",
            "[850]\tcv_agg's binary_logloss: 0.43229 + 0.00340002\n",
            "[900]\tcv_agg's binary_logloss: 0.432602 + 0.00340582\n",
            "[950]\tcv_agg's binary_logloss: 0.432824 + 0.00342634\n",
            "[1000]\tcv_agg's binary_logloss: 0.433076 + 0.00339172\n",
            "| \u001b[0m10       \u001b[0m | \u001b[0m-0.4309  \u001b[0m | \u001b[0m0.001916 \u001b[0m | \u001b[0m0.04135  \u001b[0m | \u001b[0m42.44    \u001b[0m | \u001b[0m988.4    \u001b[0m | \u001b[0m685.1    \u001b[0m | \u001b[0m853.2    \u001b[0m |\n",
            "[50]\tcv_agg's binary_logloss: 0.455884 + 0.00113356\n",
            "[100]\tcv_agg's binary_logloss: 0.442462 + 0.00161787\n",
            "[150]\tcv_agg's binary_logloss: 0.436435 + 0.00200549\n",
            "[200]\tcv_agg's binary_logloss: 0.433684 + 0.00229321\n",
            "[250]\tcv_agg's binary_logloss: 0.432506 + 0.00268437\n",
            "[300]\tcv_agg's binary_logloss: 0.43175 + 0.00295593\n",
            "[350]\tcv_agg's binary_logloss: 0.43137 + 0.00328342\n",
            "[400]\tcv_agg's binary_logloss: 0.430984 + 0.00339418\n",
            "[450]\tcv_agg's binary_logloss: 0.430815 + 0.00342642\n",
            "[500]\tcv_agg's binary_logloss: 0.430832 + 0.00344788\n",
            "[550]\tcv_agg's binary_logloss: 0.430887 + 0.00345748\n",
            "[600]\tcv_agg's binary_logloss: 0.431014 + 0.00347011\n",
            "[650]\tcv_agg's binary_logloss: 0.431184 + 0.0034615\n",
            "[700]\tcv_agg's binary_logloss: 0.431412 + 0.00343536\n",
            "[750]\tcv_agg's binary_logloss: 0.431597 + 0.00337066\n",
            "[800]\tcv_agg's binary_logloss: 0.431802 + 0.00334692\n",
            "[850]\tcv_agg's binary_logloss: 0.432022 + 0.00327819\n",
            "[900]\tcv_agg's binary_logloss: 0.432274 + 0.00329768\n",
            "[950]\tcv_agg's binary_logloss: 0.432488 + 0.00327323\n",
            "[1000]\tcv_agg's binary_logloss: 0.432773 + 0.00327999\n",
            "| \u001b[0m11       \u001b[0m | \u001b[0m-0.4308  \u001b[0m | \u001b[0m0.002112 \u001b[0m | \u001b[0m0.01964  \u001b[0m | \u001b[0m29.67    \u001b[0m | \u001b[0m9.782e+03\u001b[0m | \u001b[0m704.5    \u001b[0m | \u001b[0m680.4    \u001b[0m |\n",
            "[50]\tcv_agg's binary_logloss: 0.457514 + 0.00118616\n",
            "[100]\tcv_agg's binary_logloss: 0.444181 + 0.0018214\n",
            "[150]\tcv_agg's binary_logloss: 0.437608 + 0.0022494\n",
            "[200]\tcv_agg's binary_logloss: 0.434017 + 0.00267036\n",
            "[250]\tcv_agg's binary_logloss: 0.432046 + 0.00297768\n",
            "[300]\tcv_agg's binary_logloss: 0.430968 + 0.00320863\n",
            "[350]\tcv_agg's binary_logloss: 0.430306 + 0.00330365\n",
            "[400]\tcv_agg's binary_logloss: 0.429874 + 0.0032791\n",
            "[450]\tcv_agg's binary_logloss: 0.429631 + 0.00330598\n",
            "[500]\tcv_agg's binary_logloss: 0.429432 + 0.00325767\n",
            "[550]\tcv_agg's binary_logloss: 0.429108 + 0.00304518\n",
            "[600]\tcv_agg's binary_logloss: 0.428801 + 0.00280907\n",
            "[650]\tcv_agg's binary_logloss: 0.428549 + 0.00264221\n",
            "[700]\tcv_agg's binary_logloss: 0.428359 + 0.00241104\n",
            "[750]\tcv_agg's binary_logloss: 0.428221 + 0.00227084\n",
            "[800]\tcv_agg's binary_logloss: 0.428086 + 0.00212467\n",
            "[850]\tcv_agg's binary_logloss: 0.427951 + 0.00199825\n",
            "[900]\tcv_agg's binary_logloss: 0.42783 + 0.00183477\n",
            "[950]\tcv_agg's binary_logloss: 0.427783 + 0.00173454\n",
            "[1000]\tcv_agg's binary_logloss: 0.427774 + 0.00164418\n",
            "| \u001b[0m12       \u001b[0m | \u001b[0m-0.4278  \u001b[0m | \u001b[0m0.01969  \u001b[0m | \u001b[0m0.04001  \u001b[0m | \u001b[0m47.63    \u001b[0m | \u001b[0m6.049e+03\u001b[0m | \u001b[0m1.369e+03\u001b[0m | \u001b[0m3.94e+03 \u001b[0m |\n",
            "=================================================================================================\n"
          ]
        }
      ],
      "source": [
        "lgbBO = BayesianOptimization(lgb_eval, {'num_leaves': (25, 4000),\n",
        "                                                'max_depth': (5, 63),\n",
        "                                                'lambda_l2': (0.0, 0.05),\n",
        "                                                'lambda_l1': (0.0, 0.05),\n",
        "                                                'min_child_samples': (50, 10000),\n",
        "                                                'min_data_in_leaf': (100, 2000)\n",
        "                                                })\n",
        "\n",
        "lgbBO.maximize(n_iter=10, init_points=2)"
      ]
    },
    {
      "cell_type": "markdown",
      "metadata": {
        "id": "rdkxhhST-KZS"
      },
      "source": [
        " **<font color='teal'> Print the best result by using the '.max' function.</font>**"
      ]
    },
    {
      "cell_type": "code",
      "execution_count": 24,
      "metadata": {
        "ExecuteTime": {
          "end_time": "2019-04-22T15:49:01.513767Z",
          "start_time": "2019-04-22T15:49:01.509392Z"
        },
        "id": "oc8z6mfy-KZS",
        "colab": {
          "base_uri": "https://localhost:8080/"
        },
        "outputId": "186acdb0-7e1b-434c-f965-af35bd977a71"
      },
      "outputs": [
        {
          "output_type": "execute_result",
          "data": {
            "text/plain": [
              "{'target': -0.4237659289251113,\n",
              " 'params': {'lambda_l1': 0.03580423379048606,\n",
              "  'lambda_l2': 0.04972586225447833,\n",
              "  'max_depth': 59.73149586692614,\n",
              "  'min_child_samples': 6068.959931563411,\n",
              "  'min_data_in_leaf': 1940.221660409895,\n",
              "  'num_leaves': 2580.2359205007765}}"
            ]
          },
          "metadata": {},
          "execution_count": 24
        }
      ],
      "source": [
        "lgbBO.max"
      ]
    },
    {
      "cell_type": "markdown",
      "metadata": {
        "ExecuteTime": {
          "end_time": "2019-04-22T15:50:29.049881Z",
          "start_time": "2019-04-22T15:50:29.045908Z"
        },
        "id": "J5LAydKC-KZW"
      },
      "source": [
        "Review the process at each step by using the '.res[0]' function."
      ]
    },
    {
      "cell_type": "code",
      "execution_count": 25,
      "metadata": {
        "ExecuteTime": {
          "end_time": "2019-04-22T15:51:01.001688Z",
          "start_time": "2019-04-22T15:51:00.997484Z"
        },
        "id": "X1ttZmrI-KZX",
        "colab": {
          "base_uri": "https://localhost:8080/"
        },
        "outputId": "742a2612-1a1c-47e2-fe58-d5140a29b42b"
      },
      "outputs": [
        {
          "output_type": "execute_result",
          "data": {
            "text/plain": [
              "{'target': -0.4295881872601154,\n",
              " 'params': {'lambda_l1': 0.016070455031775982,\n",
              "  'lambda_l2': 0.036668538024049034,\n",
              "  'max_depth': 10.485607417666127,\n",
              "  'min_child_samples': 4149.443888922065,\n",
              "  'min_data_in_leaf': 1053.9671989985022,\n",
              "  'num_leaves': 3051.9991850171787}}"
            ]
          },
          "metadata": {},
          "execution_count": 25
        }
      ],
      "source": [
        "lgbBO.res[0]"
      ]
    }
  ],
  "metadata": {
    "colab": {
      "provenance": []
    },
    "deepnote_execution_queue": [],
    "kernelspec": {
      "display_name": "Python 3",
      "language": "python",
      "name": "python3"
    },
    "language_info": {
      "codemirror_mode": {
        "name": "ipython",
        "version": 3
      },
      "file_extension": ".py",
      "mimetype": "text/x-python",
      "name": "python",
      "nbconvert_exporter": "python",
      "pygments_lexer": "ipython3",
      "version": "3.7.3"
    },
    "varInspector": {
      "cols": {
        "lenName": 16,
        "lenType": 16,
        "lenVar": 40
      },
      "kernels_config": {
        "python": {
          "delete_cmd_postfix": "",
          "delete_cmd_prefix": "del ",
          "library": "var_list.py",
          "varRefreshCmd": "print(var_dic_list())"
        },
        "r": {
          "delete_cmd_postfix": ") ",
          "delete_cmd_prefix": "rm(",
          "library": "var_list.r",
          "varRefreshCmd": "cat(var_dic_list()) "
        }
      },
      "types_to_exclude": [
        "module",
        "function",
        "builtin_function_or_method",
        "instance",
        "_Feature"
      ],
      "window_display": false
    }
  },
  "nbformat": 4,
  "nbformat_minor": 0
}